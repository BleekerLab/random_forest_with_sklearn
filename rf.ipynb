{
 "cells": [
  {
   "cell_type": "code",
   "execution_count": 1,
   "id": "c3d43f41-cdf2-459e-9285-c2e0ba74c4bd",
   "metadata": {},
   "outputs": [
    {
     "ename": "TabError",
     "evalue": "inconsistent use of tabs and spaces in indentation (helpers.py, line 94)",
     "output_type": "error",
     "traceback": [
      "Traceback \u001b[0;36m(most recent call last)\u001b[0m:\n",
      "  File \u001b[1;32m\"/Users/mgalland/opt/miniconda3/envs/rf/lib/python3.8/site-packages/IPython/core/interactiveshell.py\"\u001b[0m, line \u001b[1;32m3441\u001b[0m, in \u001b[1;35mrun_code\u001b[0m\n    exec(code_obj, self.user_global_ns, self.user_ns)\n",
      "\u001b[0;36m  File \u001b[0;32m\"/var/folders/n8/6bs0rvd563j2nvq3xjrpv6400000gn/T/ipykernel_52406/3912161935.py\"\u001b[0;36m, line \u001b[0;32m6\u001b[0;36m, in \u001b[0;35m<module>\u001b[0;36m\u001b[0m\n\u001b[0;31m    import helpers as hp\u001b[0m\n",
      "\u001b[0;36m  File \u001b[0;32m\"/Users/mgalland/Documents/workspace/random_forest_with_sklearn/helpers.py\"\u001b[0;36m, line \u001b[0;32m94\u001b[0m\n\u001b[0;31m    X_train, X_test = features.iloc[train_index,:], features.iloc[test_index,:]\u001b[0m\n\u001b[0m                                                                               ^\u001b[0m\n\u001b[0;31mTabError\u001b[0m\u001b[0;31m:\u001b[0m inconsistent use of tabs and spaces in indentation\n"
     ]
    }
   ],
   "source": [
    "import pandas as pd\n",
    "import os\n",
    "from sklearn.model_selection import cross_val_score\n",
    "from sklearn.model_selection import StratifiedKFold\n",
    "from sklearn.ensemble import RandomForestClassifier\n",
    "import helpers as hp\n",
    "\n",
    "# to show all columns\n",
    "pd.set_option(\"display.max_rows\", 10, \"display.max_columns\", None)"
   ]
  },
  {
   "cell_type": "code",
   "execution_count": null,
   "id": "4e29c10e-3222-412b-80b6-39a1d208003c",
   "metadata": {},
   "outputs": [],
   "source": [
    "df = pd.read_csv(\"data/breast-cancer.csv\", dtype = {\"sample_id\":\"string\",\"sample_class\":\"category\", \"bare_nuclei\":\"int64\"})\n",
    "#df.shape\n",
    "df.info()"
   ]
  },
  {
   "cell_type": "markdown",
   "id": "ebec4823-02b2-49e7-b1c5-a7afb47def08",
   "metadata": {},
   "source": [
    "y = df.loc[:,\"sample_class\"].tolist()\n",
    "print(len(y))\n",
    "X = df.drop(columns=[\"sample_id\",\"sample_class\"], axis=1)\n",
    "y"
   ]
  },
  {
   "cell_type": "code",
   "execution_count": null,
   "id": "24f978f0-7960-476f-9921-52b87b926c92",
   "metadata": {},
   "outputs": [],
   "source": [
    "features, labels, feature_names = hp.import_data_and_separate_features_from_labels(\"data/breast-cancer.csv\")\n",
    "type(labels)"
   ]
  },
  {
   "cell_type": "markdown",
   "id": "824e3ab2-4258-407f-b749-ee0153bb9347",
   "metadata": {},
   "source": [
    "## Random Forest model with k-fold stratified cross-validation"
   ]
  },
  {
   "cell_type": "code",
   "execution_count": null,
   "id": "4f02d38d-d071-45fd-a8ff-f666764a4fee",
   "metadata": {},
   "outputs": [],
   "source": [
    "hp.random_forest_with_stratified_kfold_cv(kfolds=5, features=features, labels=labels, rand_state=123)"
   ]
  },
  {
   "cell_type": "code",
   "execution_count": null,
   "id": "ac477e27-7861-4740-8596-df884a77a7aa",
   "metadata": {},
   "outputs": [],
   "source": [
    "col_names"
   ]
  },
  {
   "cell_type": "code",
   "execution_count": null,
   "id": "8ee1e933-89b0-4a0b-9cbc-5abebf7d4d18",
   "metadata": {},
   "outputs": [],
   "source": [
    "labels[train_index]"
   ]
  },
  {
   "cell_type": "code",
   "execution_count": null,
   "id": "fa440bd8-64bf-4243-abd0-df733c94d565",
   "metadata": {},
   "outputs": [],
   "source": []
  },
  {
   "cell_type": "code",
   "execution_count": null,
   "id": "fec1b4dc-8754-4d0c-9b69-977988ad3c4e",
   "metadata": {},
   "outputs": [],
   "source": [
    "\n",
    "\n",
    "kfold_indices = StratifiedKFold(n_splits=10)\n",
    "for train_index, test_index in kfold_indices.split(features, labels): \n",
    "    # Stratified k-fold split of train and test\n",
    "\n",
    "    X_train, X_test = features.iloc[train_index,:], features.iloc[test_index,:]\n",
    "    y_train, y_test = labels[train_index], labels[test_index]\n",
    "    # Model fit\n",
    "    i = 0\n",
    "    clf = RandomForestClassifier(n_estimators=1000, criterion=\"gini\", min_samples_split=2, random_state = i + 123) \n",
    "    clf.fit(X_train, y_train)\n",
    "    rf_model_accuracy = clf.score(X_test, y_test)\n",
    "    print(rf_model_accuracy)\n",
    "    i = i + 1\n",
    "\n"
   ]
  },
  {
   "cell_type": "code",
   "execution_count": null,
   "id": "15a8dc7e-6bbb-45e3-9767-d80eadc899fe",
   "metadata": {},
   "outputs": [],
   "source": [
    "for train_index, test_index in kfold_indices.split(features, labels): \n",
    "    print(type(train_index))\n",
    "    print(type(test_index))"
   ]
  },
  {
   "cell_type": "code",
   "execution_count": null,
   "id": "640e8b16-3f47-41e7-84e2-2ae0d1ab1cfe",
   "metadata": {},
   "outputs": [],
   "source": []
  }
 ],
 "metadata": {
  "kernelspec": {
   "display_name": "Python 3 (ipykernel)",
   "language": "python",
   "name": "python3"
  },
  "language_info": {
   "codemirror_mode": {
    "name": "ipython",
    "version": 3
   },
   "file_extension": ".py",
   "mimetype": "text/x-python",
   "name": "python",
   "nbconvert_exporter": "python",
   "pygments_lexer": "ipython3",
   "version": "3.8.12"
  }
 },
 "nbformat": 4,
 "nbformat_minor": 5
}
